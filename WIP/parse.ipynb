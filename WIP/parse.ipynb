{
 "cells": [
  {
   "cell_type": "code",
   "execution_count": 2,
   "metadata": {},
   "outputs": [],
   "source": [
    "from graphql import parse\n",
    "from graphql.language.ast import ExecutableDefinitionNode\n",
    "\n"
   ]
  },
  {
   "cell_type": "code",
   "execution_count": 22,
   "metadata": {},
   "outputs": [
    {
     "name": "stdout",
     "output_type": "stream",
     "text": [
      "OperationType.QUERY\n"
     ]
    }
   ],
   "source": [
    "import json\n",
    "from graphql import OperationDefinitionNode, OperationType\n",
    "\n",
    "\n",
    "QUERY_TEXT = \"\"\"#graphql\n",
    "query($var1: [String], $var2: [String] = \"default\") {\n",
    "  devices(name: $var1, field: $var2) {\n",
    "    id\n",
    "    name\n",
    "  }\n",
    "}\n",
    "{\n",
    "  devices(name: $var1, field: $var2) {\n",
    "    id\n",
    "    name\n",
    "  }\n",
    "}\n",
    "\"\"\"\n",
    "\n",
    "variables = {}\n",
    "document = parse(QUERY_TEXT)\n",
    "# Inspect the parsed document tree (document.document_ast) to retrieve the query (operation) definition(s)\n",
    "# that define one or more variables. For each operation and variable definition, store the variable's\n",
    "# default value (if any) into our own \"variables\" dict.\n",
    "definitions = [\n",
    "    d\n",
    "    for d in document.definitions\n",
    "    if isinstance(d, ExecutableDefinitionNode) and d.variable_definitions\n",
    "]\n",
    "for definition in definitions:\n",
    "    for variable_definition in definition.variable_definitions:\n",
    "        default = (\n",
    "            variable_definition.default_value.value\n",
    "            if variable_definition.default_value\n",
    "            else \"\"\n",
    "        )\n",
    "        variables[variable_definition.variable.name.value] = default\n",
    "\n",
    "operation = document.definitions[0].operation\n",
    "print(operation == OperationType.QUERY)\n",
    "# print(json.dumps(document.to_dict(), indent=2))\n"
   ]
  }
 ],
 "metadata": {
  "kernelspec": {
   "display_name": ".venv",
   "language": "python",
   "name": "python3"
  },
  "language_info": {
   "codemirror_mode": {
    "name": "ipython",
    "version": 3
   },
   "file_extension": ".py",
   "mimetype": "text/x-python",
   "name": "python",
   "nbconvert_exporter": "python",
   "pygments_lexer": "ipython3",
   "version": "3.11.9"
  }
 },
 "nbformat": 4,
 "nbformat_minor": 2
}
